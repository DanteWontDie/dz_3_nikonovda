{
 "cells": [
  {
   "cell_type": "markdown",
   "id": "eb1af815-c25e-484e-af0e-e0e12a2e902c",
   "metadata": {},
   "source": [
    "Тема 3. Функции и области видимости"
   ]
  },
  {
   "cell_type": "markdown",
   "id": "f3be5572-359b-463c-92c8-824783efb7d8",
   "metadata": {},
   "source": [
    "Задание 1.\n",
    "Напишите код на Python для решения следующей задачи.\n",
    "Реализуйте функцию sum_distance(from, to), которая суммирует все числа от\n",
    "значения from до величины to включительно.\n",
    "Примечание. Если пользователь задаст первое число, которое окажется\n",
    "больше второго, просто поменяйте их местами."
   ]
  },
  {
   "cell_type": "code",
   "execution_count": 8,
   "id": "7aa3d6eb-3aa3-4ae9-84c9-7734e35bc709",
   "metadata": {},
   "outputs": [
    {
     "name": "stdin",
     "output_type": "stream",
     "text": [
      "Введите значение первой переменной 111\n",
      "Введиет значение второй переменной 222\n"
     ]
    },
    {
     "name": "stdout",
     "output_type": "stream",
     "text": [
      "Сумма всех чисел между 111 и 222 (включительно) равна 18648\n"
     ]
    }
   ],
   "source": [
    "# исходные перменные\n",
    "from_value = int(input('Введите значение первой переменной'))\n",
    "to_value = int(input('Введиет значение второй переменной'))\n",
    "\n",
    "\n",
    "def sum_distance(from_value, to_value):\n",
    "    # Нужно ли поменять местами значения\n",
    "    if from_value > to_value:\n",
    "        from_value, to_value = to_value, from_value\n",
    "    \n",
    "    # Суммируем числа от первой переменной до второй\n",
    "    result_sum = sum(range(from_value, to_value + 1))\n",
    "    return result_sum\n",
    "\n",
    "\n",
    "print('Сумма всех чисел между {} и {} (включительно) равна {}' .format(from_value, to_value, sum_distance(from_value, to_value)))\n"
   ]
  },
  {
   "cell_type": "markdown",
   "id": "23de4af9-d9d1-4866-a937-7f03ec1972b8",
   "metadata": {},
   "source": [
    "Задание 2.\n",
    "Напишите код на Python для решения следующей задачи.\n",
    "Реализуйте функцию trim_and_repeat(), которая принимает три параметра:\n",
    "● строку;\n",
    "● offset — число символов, на которое нужно обрезать строку слева;\n",
    "● repetitions — сколько раз нужно повторить строку перед возвратом\n",
    "получившейся строки.\n",
    "Число символов для среза по умолчанию равно 0, а количество повторений —\n",
    "1.\n",
    "Функция должна возвращать полученную строку."
   ]
  },
  {
   "cell_type": "code",
   "execution_count": 16,
   "id": "9002388f-e11f-4d14-ba17-da7e1a1f50c4",
   "metadata": {},
   "outputs": [
    {
     "name": "stdin",
     "output_type": "stream",
     "text": [
      "Введите значение строки Hello, World!\n"
     ]
    },
    {
     "name": "stdout",
     "output_type": "stream",
     "text": [
      "Обработанная строка: llo, World!llo, World!llo, World!llo, World!\n"
     ]
    }
   ],
   "source": [
    "# исходные перменные\n",
    "\n",
    "string_value = str(input('Введите значение строки'))\n",
    "offset_value = int(2)\n",
    "repetitions_value = int(4)\n",
    "\n",
    "def trim_and_repeat(string_value, offset_value, repetitions_value):\n",
    "    # Обрезаем строку слева на заданное количество символов\n",
    "    trimmed_string = string_value[offset_value:]\n",
    "    # Повторяем обрезанную строку заданное количество раз\n",
    "    result_string = trimmed_string * repetitions_value\n",
    "    return result_string\n",
    "\n",
    "print('Обработанная строка: {}'.format(trim_and_repeat(string_value, offset_value, repetitions_value)))\n"
   ]
  }
 ],
 "metadata": {
  "kernelspec": {
   "display_name": "Python 3 (ipykernel)",
   "language": "python",
   "name": "python3"
  },
  "language_info": {
   "codemirror_mode": {
    "name": "ipython",
    "version": 3
   },
   "file_extension": ".py",
   "mimetype": "text/x-python",
   "name": "python",
   "nbconvert_exporter": "python",
   "pygments_lexer": "ipython3",
   "version": "3.12.7"
  }
 },
 "nbformat": 4,
 "nbformat_minor": 5
}
